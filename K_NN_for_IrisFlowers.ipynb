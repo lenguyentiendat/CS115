{
  "nbformat": 4,
  "nbformat_minor": 0,
  "metadata": {
    "colab": {
      "name": "K-NN for IrisFlowers.ipynb",
      "provenance": [],
      "collapsed_sections": []
    },
    "kernelspec": {
      "name": "python3",
      "display_name": "Python 3"
    },
    "language_info": {
      "name": "python"
    }
  },
  "cells": [
    {
      "cell_type": "markdown",
      "source": [
        "# IMPORTING LIBRARIES\n"
      ],
      "metadata": {
        "id": "-Uqj4XSPzxG9"
      }
    },
    {
      "cell_type": "code",
      "source": [
        "import numpy as np\n",
        "\n",
        "from sklearn import neighbors, datasets\n",
        "from sklearn.model_selection import train_test_split # for splitting data\n",
        "from sklearn.metrics import accuracy_score, classification_report, confusion_matrix # for evaluating results\n",
        "\n",
        "from sklearn.preprocessing import LabelEncoder\n",
        "from sklearn.preprocessing import MinMaxScaler\n",
        "\n",
        "from sklearn.neighbors import KNeighborsClassifier\n",
        "from sklearn.linear_model import LogisticRegression\n",
        "from sklearn.svm import SVC\n",
        "\n",
        "import matplotlib.pyplot as plt\n",
        "import seaborn as sns\n",
        "from matplotlib.colors import ListedColormap\n",
        "\n",
        "\n",
        "from sklearn.metrics import ConfusionMatrixDisplay\n",
        "\n",
        "\n",
        "import pandas as pd # .csv , .xlsx"
      ],
      "metadata": {
        "id": "zSBvFhq2z8h9"
      },
      "execution_count": null,
      "outputs": []
    },
    {
      "cell_type": "markdown",
      "source": [
        "# LOADING DATASET\n"
      ],
      "metadata": {
        "id": "7JBtFgfq0ZSl"
      }
    },
    {
      "cell_type": "code",
      "source": [
        "iris = pd.read_csv(\"IRIS.csv\")\n",
        "#iris = datasets.load_iris()\n",
        "iris"
      ],
      "metadata": {
        "colab": {
          "base_uri": "https://localhost:8080/",
          "height": 419
        },
        "id": "Chm6VPMl0dy4",
        "outputId": "7039ccbf-b5fe-4ca8-bdf4-67cad291908d"
      },
      "execution_count": null,
      "outputs": [
        {
          "output_type": "execute_result",
          "data": {
            "text/html": [
              "\n",
              "  <div id=\"df-9e99b8ae-9edd-46fa-9140-d31ce9e7a576\">\n",
              "    <div class=\"colab-df-container\">\n",
              "      <div>\n",
              "<style scoped>\n",
              "    .dataframe tbody tr th:only-of-type {\n",
              "        vertical-align: middle;\n",
              "    }\n",
              "\n",
              "    .dataframe tbody tr th {\n",
              "        vertical-align: top;\n",
              "    }\n",
              "\n",
              "    .dataframe thead th {\n",
              "        text-align: right;\n",
              "    }\n",
              "</style>\n",
              "<table border=\"1\" class=\"dataframe\">\n",
              "  <thead>\n",
              "    <tr style=\"text-align: right;\">\n",
              "      <th></th>\n",
              "      <th>sepal_length</th>\n",
              "      <th>sepal_width</th>\n",
              "      <th>petal_length</th>\n",
              "      <th>petal_width</th>\n",
              "      <th>species</th>\n",
              "    </tr>\n",
              "  </thead>\n",
              "  <tbody>\n",
              "    <tr>\n",
              "      <th>0</th>\n",
              "      <td>5.1</td>\n",
              "      <td>3.5</td>\n",
              "      <td>1.4</td>\n",
              "      <td>0.2</td>\n",
              "      <td>Iris-setosa</td>\n",
              "    </tr>\n",
              "    <tr>\n",
              "      <th>1</th>\n",
              "      <td>4.9</td>\n",
              "      <td>3.0</td>\n",
              "      <td>1.4</td>\n",
              "      <td>0.2</td>\n",
              "      <td>Iris-setosa</td>\n",
              "    </tr>\n",
              "    <tr>\n",
              "      <th>2</th>\n",
              "      <td>4.7</td>\n",
              "      <td>3.2</td>\n",
              "      <td>1.3</td>\n",
              "      <td>0.2</td>\n",
              "      <td>Iris-setosa</td>\n",
              "    </tr>\n",
              "    <tr>\n",
              "      <th>3</th>\n",
              "      <td>4.6</td>\n",
              "      <td>3.1</td>\n",
              "      <td>1.5</td>\n",
              "      <td>0.2</td>\n",
              "      <td>Iris-setosa</td>\n",
              "    </tr>\n",
              "    <tr>\n",
              "      <th>4</th>\n",
              "      <td>5.0</td>\n",
              "      <td>3.6</td>\n",
              "      <td>1.4</td>\n",
              "      <td>0.2</td>\n",
              "      <td>Iris-setosa</td>\n",
              "    </tr>\n",
              "    <tr>\n",
              "      <th>...</th>\n",
              "      <td>...</td>\n",
              "      <td>...</td>\n",
              "      <td>...</td>\n",
              "      <td>...</td>\n",
              "      <td>...</td>\n",
              "    </tr>\n",
              "    <tr>\n",
              "      <th>145</th>\n",
              "      <td>6.7</td>\n",
              "      <td>3.0</td>\n",
              "      <td>5.2</td>\n",
              "      <td>2.3</td>\n",
              "      <td>Iris-virginica</td>\n",
              "    </tr>\n",
              "    <tr>\n",
              "      <th>146</th>\n",
              "      <td>6.3</td>\n",
              "      <td>2.5</td>\n",
              "      <td>5.0</td>\n",
              "      <td>1.9</td>\n",
              "      <td>Iris-virginica</td>\n",
              "    </tr>\n",
              "    <tr>\n",
              "      <th>147</th>\n",
              "      <td>6.5</td>\n",
              "      <td>3.0</td>\n",
              "      <td>5.2</td>\n",
              "      <td>2.0</td>\n",
              "      <td>Iris-virginica</td>\n",
              "    </tr>\n",
              "    <tr>\n",
              "      <th>148</th>\n",
              "      <td>6.2</td>\n",
              "      <td>3.4</td>\n",
              "      <td>5.4</td>\n",
              "      <td>2.3</td>\n",
              "      <td>Iris-virginica</td>\n",
              "    </tr>\n",
              "    <tr>\n",
              "      <th>149</th>\n",
              "      <td>5.9</td>\n",
              "      <td>3.0</td>\n",
              "      <td>5.1</td>\n",
              "      <td>1.8</td>\n",
              "      <td>Iris-virginica</td>\n",
              "    </tr>\n",
              "  </tbody>\n",
              "</table>\n",
              "<p>150 rows × 5 columns</p>\n",
              "</div>\n",
              "      <button class=\"colab-df-convert\" onclick=\"convertToInteractive('df-9e99b8ae-9edd-46fa-9140-d31ce9e7a576')\"\n",
              "              title=\"Convert this dataframe to an interactive table.\"\n",
              "              style=\"display:none;\">\n",
              "        \n",
              "  <svg xmlns=\"http://www.w3.org/2000/svg\" height=\"24px\"viewBox=\"0 0 24 24\"\n",
              "       width=\"24px\">\n",
              "    <path d=\"M0 0h24v24H0V0z\" fill=\"none\"/>\n",
              "    <path d=\"M18.56 5.44l.94 2.06.94-2.06 2.06-.94-2.06-.94-.94-2.06-.94 2.06-2.06.94zm-11 1L8.5 8.5l.94-2.06 2.06-.94-2.06-.94L8.5 2.5l-.94 2.06-2.06.94zm10 10l.94 2.06.94-2.06 2.06-.94-2.06-.94-.94-2.06-.94 2.06-2.06.94z\"/><path d=\"M17.41 7.96l-1.37-1.37c-.4-.4-.92-.59-1.43-.59-.52 0-1.04.2-1.43.59L10.3 9.45l-7.72 7.72c-.78.78-.78 2.05 0 2.83L4 21.41c.39.39.9.59 1.41.59.51 0 1.02-.2 1.41-.59l7.78-7.78 2.81-2.81c.8-.78.8-2.07 0-2.86zM5.41 20L4 18.59l7.72-7.72 1.47 1.35L5.41 20z\"/>\n",
              "  </svg>\n",
              "      </button>\n",
              "      \n",
              "  <style>\n",
              "    .colab-df-container {\n",
              "      display:flex;\n",
              "      flex-wrap:wrap;\n",
              "      gap: 12px;\n",
              "    }\n",
              "\n",
              "    .colab-df-convert {\n",
              "      background-color: #E8F0FE;\n",
              "      border: none;\n",
              "      border-radius: 50%;\n",
              "      cursor: pointer;\n",
              "      display: none;\n",
              "      fill: #1967D2;\n",
              "      height: 32px;\n",
              "      padding: 0 0 0 0;\n",
              "      width: 32px;\n",
              "    }\n",
              "\n",
              "    .colab-df-convert:hover {\n",
              "      background-color: #E2EBFA;\n",
              "      box-shadow: 0px 1px 2px rgba(60, 64, 67, 0.3), 0px 1px 3px 1px rgba(60, 64, 67, 0.15);\n",
              "      fill: #174EA6;\n",
              "    }\n",
              "\n",
              "    [theme=dark] .colab-df-convert {\n",
              "      background-color: #3B4455;\n",
              "      fill: #D2E3FC;\n",
              "    }\n",
              "\n",
              "    [theme=dark] .colab-df-convert:hover {\n",
              "      background-color: #434B5C;\n",
              "      box-shadow: 0px 1px 3px 1px rgba(0, 0, 0, 0.15);\n",
              "      filter: drop-shadow(0px 1px 2px rgba(0, 0, 0, 0.3));\n",
              "      fill: #FFFFFF;\n",
              "    }\n",
              "  </style>\n",
              "\n",
              "      <script>\n",
              "        const buttonEl =\n",
              "          document.querySelector('#df-9e99b8ae-9edd-46fa-9140-d31ce9e7a576 button.colab-df-convert');\n",
              "        buttonEl.style.display =\n",
              "          google.colab.kernel.accessAllowed ? 'block' : 'none';\n",
              "\n",
              "        async function convertToInteractive(key) {\n",
              "          const element = document.querySelector('#df-9e99b8ae-9edd-46fa-9140-d31ce9e7a576');\n",
              "          const dataTable =\n",
              "            await google.colab.kernel.invokeFunction('convertToInteractive',\n",
              "                                                     [key], {});\n",
              "          if (!dataTable) return;\n",
              "\n",
              "          const docLinkHtml = 'Like what you see? Visit the ' +\n",
              "            '<a target=\"_blank\" href=https://colab.research.google.com/notebooks/data_table.ipynb>data table notebook</a>'\n",
              "            + ' to learn more about interactive tables.';\n",
              "          element.innerHTML = '';\n",
              "          dataTable['output_type'] = 'display_data';\n",
              "          await google.colab.output.renderOutput(dataTable, element);\n",
              "          const docLink = document.createElement('div');\n",
              "          docLink.innerHTML = docLinkHtml;\n",
              "          element.appendChild(docLink);\n",
              "        }\n",
              "      </script>\n",
              "    </div>\n",
              "  </div>\n",
              "  "
            ],
            "text/plain": [
              "     sepal_length  sepal_width  petal_length  petal_width         species\n",
              "0             5.1          3.5           1.4          0.2     Iris-setosa\n",
              "1             4.9          3.0           1.4          0.2     Iris-setosa\n",
              "2             4.7          3.2           1.3          0.2     Iris-setosa\n",
              "3             4.6          3.1           1.5          0.2     Iris-setosa\n",
              "4             5.0          3.6           1.4          0.2     Iris-setosa\n",
              "..            ...          ...           ...          ...             ...\n",
              "145           6.7          3.0           5.2          2.3  Iris-virginica\n",
              "146           6.3          2.5           5.0          1.9  Iris-virginica\n",
              "147           6.5          3.0           5.2          2.0  Iris-virginica\n",
              "148           6.2          3.4           5.4          2.3  Iris-virginica\n",
              "149           5.9          3.0           5.1          1.8  Iris-virginica\n",
              "\n",
              "[150 rows x 5 columns]"
            ]
          },
          "metadata": {},
          "execution_count": 2
        }
      ]
    },
    {
      "cell_type": "code",
      "source": [
        "#Check kinds of label\n",
        "iris['species'].unique()"
      ],
      "metadata": {
        "colab": {
          "base_uri": "https://localhost:8080/"
        },
        "id": "vbJanGWp2R-J",
        "outputId": "39f56af5-f34c-40b2-d43f-15398723f1d4"
      },
      "execution_count": null,
      "outputs": [
        {
          "output_type": "execute_result",
          "data": {
            "text/plain": [
              "array(['Iris-setosa', 'Iris-versicolor', 'Iris-virginica'], dtype=object)"
            ]
          },
          "metadata": {},
          "execution_count": 3
        }
      ]
    },
    {
      "cell_type": "code",
      "source": [
        "#From sklearn.preprocessing import LabelEncoder\n",
        "\n",
        "#Encode the species\n",
        "species = ['Iris-setosa', 'Iris-versicolor', 'Iris-virginica']\n",
        "\n",
        "le = LabelEncoder()\n",
        "le.fit(species)\n",
        "iris['species'] = le.fit_transform(iris['species'].astype(str))\n",
        "\n",
        "iris"
      ],
      "metadata": {
        "colab": {
          "base_uri": "https://localhost:8080/",
          "height": 419
        },
        "id": "6XSxFmGX2r3r",
        "outputId": "cb95ed22-de1c-427c-abc1-0d6d0d5ccf78"
      },
      "execution_count": null,
      "outputs": [
        {
          "output_type": "execute_result",
          "data": {
            "text/html": [
              "\n",
              "  <div id=\"df-15aeec81-9561-42d8-a1a5-b0aed20927cb\">\n",
              "    <div class=\"colab-df-container\">\n",
              "      <div>\n",
              "<style scoped>\n",
              "    .dataframe tbody tr th:only-of-type {\n",
              "        vertical-align: middle;\n",
              "    }\n",
              "\n",
              "    .dataframe tbody tr th {\n",
              "        vertical-align: top;\n",
              "    }\n",
              "\n",
              "    .dataframe thead th {\n",
              "        text-align: right;\n",
              "    }\n",
              "</style>\n",
              "<table border=\"1\" class=\"dataframe\">\n",
              "  <thead>\n",
              "    <tr style=\"text-align: right;\">\n",
              "      <th></th>\n",
              "      <th>sepal_length</th>\n",
              "      <th>sepal_width</th>\n",
              "      <th>petal_length</th>\n",
              "      <th>petal_width</th>\n",
              "      <th>species</th>\n",
              "    </tr>\n",
              "  </thead>\n",
              "  <tbody>\n",
              "    <tr>\n",
              "      <th>0</th>\n",
              "      <td>5.1</td>\n",
              "      <td>3.5</td>\n",
              "      <td>1.4</td>\n",
              "      <td>0.2</td>\n",
              "      <td>0</td>\n",
              "    </tr>\n",
              "    <tr>\n",
              "      <th>1</th>\n",
              "      <td>4.9</td>\n",
              "      <td>3.0</td>\n",
              "      <td>1.4</td>\n",
              "      <td>0.2</td>\n",
              "      <td>0</td>\n",
              "    </tr>\n",
              "    <tr>\n",
              "      <th>2</th>\n",
              "      <td>4.7</td>\n",
              "      <td>3.2</td>\n",
              "      <td>1.3</td>\n",
              "      <td>0.2</td>\n",
              "      <td>0</td>\n",
              "    </tr>\n",
              "    <tr>\n",
              "      <th>3</th>\n",
              "      <td>4.6</td>\n",
              "      <td>3.1</td>\n",
              "      <td>1.5</td>\n",
              "      <td>0.2</td>\n",
              "      <td>0</td>\n",
              "    </tr>\n",
              "    <tr>\n",
              "      <th>4</th>\n",
              "      <td>5.0</td>\n",
              "      <td>3.6</td>\n",
              "      <td>1.4</td>\n",
              "      <td>0.2</td>\n",
              "      <td>0</td>\n",
              "    </tr>\n",
              "    <tr>\n",
              "      <th>...</th>\n",
              "      <td>...</td>\n",
              "      <td>...</td>\n",
              "      <td>...</td>\n",
              "      <td>...</td>\n",
              "      <td>...</td>\n",
              "    </tr>\n",
              "    <tr>\n",
              "      <th>145</th>\n",
              "      <td>6.7</td>\n",
              "      <td>3.0</td>\n",
              "      <td>5.2</td>\n",
              "      <td>2.3</td>\n",
              "      <td>2</td>\n",
              "    </tr>\n",
              "    <tr>\n",
              "      <th>146</th>\n",
              "      <td>6.3</td>\n",
              "      <td>2.5</td>\n",
              "      <td>5.0</td>\n",
              "      <td>1.9</td>\n",
              "      <td>2</td>\n",
              "    </tr>\n",
              "    <tr>\n",
              "      <th>147</th>\n",
              "      <td>6.5</td>\n",
              "      <td>3.0</td>\n",
              "      <td>5.2</td>\n",
              "      <td>2.0</td>\n",
              "      <td>2</td>\n",
              "    </tr>\n",
              "    <tr>\n",
              "      <th>148</th>\n",
              "      <td>6.2</td>\n",
              "      <td>3.4</td>\n",
              "      <td>5.4</td>\n",
              "      <td>2.3</td>\n",
              "      <td>2</td>\n",
              "    </tr>\n",
              "    <tr>\n",
              "      <th>149</th>\n",
              "      <td>5.9</td>\n",
              "      <td>3.0</td>\n",
              "      <td>5.1</td>\n",
              "      <td>1.8</td>\n",
              "      <td>2</td>\n",
              "    </tr>\n",
              "  </tbody>\n",
              "</table>\n",
              "<p>150 rows × 5 columns</p>\n",
              "</div>\n",
              "      <button class=\"colab-df-convert\" onclick=\"convertToInteractive('df-15aeec81-9561-42d8-a1a5-b0aed20927cb')\"\n",
              "              title=\"Convert this dataframe to an interactive table.\"\n",
              "              style=\"display:none;\">\n",
              "        \n",
              "  <svg xmlns=\"http://www.w3.org/2000/svg\" height=\"24px\"viewBox=\"0 0 24 24\"\n",
              "       width=\"24px\">\n",
              "    <path d=\"M0 0h24v24H0V0z\" fill=\"none\"/>\n",
              "    <path d=\"M18.56 5.44l.94 2.06.94-2.06 2.06-.94-2.06-.94-.94-2.06-.94 2.06-2.06.94zm-11 1L8.5 8.5l.94-2.06 2.06-.94-2.06-.94L8.5 2.5l-.94 2.06-2.06.94zm10 10l.94 2.06.94-2.06 2.06-.94-2.06-.94-.94-2.06-.94 2.06-2.06.94z\"/><path d=\"M17.41 7.96l-1.37-1.37c-.4-.4-.92-.59-1.43-.59-.52 0-1.04.2-1.43.59L10.3 9.45l-7.72 7.72c-.78.78-.78 2.05 0 2.83L4 21.41c.39.39.9.59 1.41.59.51 0 1.02-.2 1.41-.59l7.78-7.78 2.81-2.81c.8-.78.8-2.07 0-2.86zM5.41 20L4 18.59l7.72-7.72 1.47 1.35L5.41 20z\"/>\n",
              "  </svg>\n",
              "      </button>\n",
              "      \n",
              "  <style>\n",
              "    .colab-df-container {\n",
              "      display:flex;\n",
              "      flex-wrap:wrap;\n",
              "      gap: 12px;\n",
              "    }\n",
              "\n",
              "    .colab-df-convert {\n",
              "      background-color: #E8F0FE;\n",
              "      border: none;\n",
              "      border-radius: 50%;\n",
              "      cursor: pointer;\n",
              "      display: none;\n",
              "      fill: #1967D2;\n",
              "      height: 32px;\n",
              "      padding: 0 0 0 0;\n",
              "      width: 32px;\n",
              "    }\n",
              "\n",
              "    .colab-df-convert:hover {\n",
              "      background-color: #E2EBFA;\n",
              "      box-shadow: 0px 1px 2px rgba(60, 64, 67, 0.3), 0px 1px 3px 1px rgba(60, 64, 67, 0.15);\n",
              "      fill: #174EA6;\n",
              "    }\n",
              "\n",
              "    [theme=dark] .colab-df-convert {\n",
              "      background-color: #3B4455;\n",
              "      fill: #D2E3FC;\n",
              "    }\n",
              "\n",
              "    [theme=dark] .colab-df-convert:hover {\n",
              "      background-color: #434B5C;\n",
              "      box-shadow: 0px 1px 3px 1px rgba(0, 0, 0, 0.15);\n",
              "      filter: drop-shadow(0px 1px 2px rgba(0, 0, 0, 0.3));\n",
              "      fill: #FFFFFF;\n",
              "    }\n",
              "  </style>\n",
              "\n",
              "      <script>\n",
              "        const buttonEl =\n",
              "          document.querySelector('#df-15aeec81-9561-42d8-a1a5-b0aed20927cb button.colab-df-convert');\n",
              "        buttonEl.style.display =\n",
              "          google.colab.kernel.accessAllowed ? 'block' : 'none';\n",
              "\n",
              "        async function convertToInteractive(key) {\n",
              "          const element = document.querySelector('#df-15aeec81-9561-42d8-a1a5-b0aed20927cb');\n",
              "          const dataTable =\n",
              "            await google.colab.kernel.invokeFunction('convertToInteractive',\n",
              "                                                     [key], {});\n",
              "          if (!dataTable) return;\n",
              "\n",
              "          const docLinkHtml = 'Like what you see? Visit the ' +\n",
              "            '<a target=\"_blank\" href=https://colab.research.google.com/notebooks/data_table.ipynb>data table notebook</a>'\n",
              "            + ' to learn more about interactive tables.';\n",
              "          element.innerHTML = '';\n",
              "          dataTable['output_type'] = 'display_data';\n",
              "          await google.colab.output.renderOutput(dataTable, element);\n",
              "          const docLink = document.createElement('div');\n",
              "          docLink.innerHTML = docLinkHtml;\n",
              "          element.appendChild(docLink);\n",
              "        }\n",
              "      </script>\n",
              "    </div>\n",
              "  </div>\n",
              "  "
            ],
            "text/plain": [
              "     sepal_length  sepal_width  petal_length  petal_width  species\n",
              "0             5.1          3.5           1.4          0.2        0\n",
              "1             4.9          3.0           1.4          0.2        0\n",
              "2             4.7          3.2           1.3          0.2        0\n",
              "3             4.6          3.1           1.5          0.2        0\n",
              "4             5.0          3.6           1.4          0.2        0\n",
              "..            ...          ...           ...          ...      ...\n",
              "145           6.7          3.0           5.2          2.3        2\n",
              "146           6.3          2.5           5.0          1.9        2\n",
              "147           6.5          3.0           5.2          2.0        2\n",
              "148           6.2          3.4           5.4          2.3        2\n",
              "149           5.9          3.0           5.1          1.8        2\n",
              "\n",
              "[150 rows x 5 columns]"
            ]
          },
          "metadata": {},
          "execution_count": 4
        }
      ]
    },
    {
      "cell_type": "code",
      "source": [
        "#Features x\n",
        "iris_x = iris.drop('species', axis = 1)\n",
        "iris_x"
      ],
      "metadata": {
        "colab": {
          "base_uri": "https://localhost:8080/",
          "height": 419
        },
        "id": "h4Gz_vZe5Wt5",
        "outputId": "87bd971f-4978-45c0-ec26-b2dc81daa5b3"
      },
      "execution_count": null,
      "outputs": [
        {
          "output_type": "execute_result",
          "data": {
            "text/html": [
              "\n",
              "  <div id=\"df-0e4d2e1a-345c-4a0a-95aa-27a264138d94\">\n",
              "    <div class=\"colab-df-container\">\n",
              "      <div>\n",
              "<style scoped>\n",
              "    .dataframe tbody tr th:only-of-type {\n",
              "        vertical-align: middle;\n",
              "    }\n",
              "\n",
              "    .dataframe tbody tr th {\n",
              "        vertical-align: top;\n",
              "    }\n",
              "\n",
              "    .dataframe thead th {\n",
              "        text-align: right;\n",
              "    }\n",
              "</style>\n",
              "<table border=\"1\" class=\"dataframe\">\n",
              "  <thead>\n",
              "    <tr style=\"text-align: right;\">\n",
              "      <th></th>\n",
              "      <th>sepal_length</th>\n",
              "      <th>sepal_width</th>\n",
              "      <th>petal_length</th>\n",
              "      <th>petal_width</th>\n",
              "    </tr>\n",
              "  </thead>\n",
              "  <tbody>\n",
              "    <tr>\n",
              "      <th>0</th>\n",
              "      <td>5.1</td>\n",
              "      <td>3.5</td>\n",
              "      <td>1.4</td>\n",
              "      <td>0.2</td>\n",
              "    </tr>\n",
              "    <tr>\n",
              "      <th>1</th>\n",
              "      <td>4.9</td>\n",
              "      <td>3.0</td>\n",
              "      <td>1.4</td>\n",
              "      <td>0.2</td>\n",
              "    </tr>\n",
              "    <tr>\n",
              "      <th>2</th>\n",
              "      <td>4.7</td>\n",
              "      <td>3.2</td>\n",
              "      <td>1.3</td>\n",
              "      <td>0.2</td>\n",
              "    </tr>\n",
              "    <tr>\n",
              "      <th>3</th>\n",
              "      <td>4.6</td>\n",
              "      <td>3.1</td>\n",
              "      <td>1.5</td>\n",
              "      <td>0.2</td>\n",
              "    </tr>\n",
              "    <tr>\n",
              "      <th>4</th>\n",
              "      <td>5.0</td>\n",
              "      <td>3.6</td>\n",
              "      <td>1.4</td>\n",
              "      <td>0.2</td>\n",
              "    </tr>\n",
              "    <tr>\n",
              "      <th>...</th>\n",
              "      <td>...</td>\n",
              "      <td>...</td>\n",
              "      <td>...</td>\n",
              "      <td>...</td>\n",
              "    </tr>\n",
              "    <tr>\n",
              "      <th>145</th>\n",
              "      <td>6.7</td>\n",
              "      <td>3.0</td>\n",
              "      <td>5.2</td>\n",
              "      <td>2.3</td>\n",
              "    </tr>\n",
              "    <tr>\n",
              "      <th>146</th>\n",
              "      <td>6.3</td>\n",
              "      <td>2.5</td>\n",
              "      <td>5.0</td>\n",
              "      <td>1.9</td>\n",
              "    </tr>\n",
              "    <tr>\n",
              "      <th>147</th>\n",
              "      <td>6.5</td>\n",
              "      <td>3.0</td>\n",
              "      <td>5.2</td>\n",
              "      <td>2.0</td>\n",
              "    </tr>\n",
              "    <tr>\n",
              "      <th>148</th>\n",
              "      <td>6.2</td>\n",
              "      <td>3.4</td>\n",
              "      <td>5.4</td>\n",
              "      <td>2.3</td>\n",
              "    </tr>\n",
              "    <tr>\n",
              "      <th>149</th>\n",
              "      <td>5.9</td>\n",
              "      <td>3.0</td>\n",
              "      <td>5.1</td>\n",
              "      <td>1.8</td>\n",
              "    </tr>\n",
              "  </tbody>\n",
              "</table>\n",
              "<p>150 rows × 4 columns</p>\n",
              "</div>\n",
              "      <button class=\"colab-df-convert\" onclick=\"convertToInteractive('df-0e4d2e1a-345c-4a0a-95aa-27a264138d94')\"\n",
              "              title=\"Convert this dataframe to an interactive table.\"\n",
              "              style=\"display:none;\">\n",
              "        \n",
              "  <svg xmlns=\"http://www.w3.org/2000/svg\" height=\"24px\"viewBox=\"0 0 24 24\"\n",
              "       width=\"24px\">\n",
              "    <path d=\"M0 0h24v24H0V0z\" fill=\"none\"/>\n",
              "    <path d=\"M18.56 5.44l.94 2.06.94-2.06 2.06-.94-2.06-.94-.94-2.06-.94 2.06-2.06.94zm-11 1L8.5 8.5l.94-2.06 2.06-.94-2.06-.94L8.5 2.5l-.94 2.06-2.06.94zm10 10l.94 2.06.94-2.06 2.06-.94-2.06-.94-.94-2.06-.94 2.06-2.06.94z\"/><path d=\"M17.41 7.96l-1.37-1.37c-.4-.4-.92-.59-1.43-.59-.52 0-1.04.2-1.43.59L10.3 9.45l-7.72 7.72c-.78.78-.78 2.05 0 2.83L4 21.41c.39.39.9.59 1.41.59.51 0 1.02-.2 1.41-.59l7.78-7.78 2.81-2.81c.8-.78.8-2.07 0-2.86zM5.41 20L4 18.59l7.72-7.72 1.47 1.35L5.41 20z\"/>\n",
              "  </svg>\n",
              "      </button>\n",
              "      \n",
              "  <style>\n",
              "    .colab-df-container {\n",
              "      display:flex;\n",
              "      flex-wrap:wrap;\n",
              "      gap: 12px;\n",
              "    }\n",
              "\n",
              "    .colab-df-convert {\n",
              "      background-color: #E8F0FE;\n",
              "      border: none;\n",
              "      border-radius: 50%;\n",
              "      cursor: pointer;\n",
              "      display: none;\n",
              "      fill: #1967D2;\n",
              "      height: 32px;\n",
              "      padding: 0 0 0 0;\n",
              "      width: 32px;\n",
              "    }\n",
              "\n",
              "    .colab-df-convert:hover {\n",
              "      background-color: #E2EBFA;\n",
              "      box-shadow: 0px 1px 2px rgba(60, 64, 67, 0.3), 0px 1px 3px 1px rgba(60, 64, 67, 0.15);\n",
              "      fill: #174EA6;\n",
              "    }\n",
              "\n",
              "    [theme=dark] .colab-df-convert {\n",
              "      background-color: #3B4455;\n",
              "      fill: #D2E3FC;\n",
              "    }\n",
              "\n",
              "    [theme=dark] .colab-df-convert:hover {\n",
              "      background-color: #434B5C;\n",
              "      box-shadow: 0px 1px 3px 1px rgba(0, 0, 0, 0.15);\n",
              "      filter: drop-shadow(0px 1px 2px rgba(0, 0, 0, 0.3));\n",
              "      fill: #FFFFFF;\n",
              "    }\n",
              "  </style>\n",
              "\n",
              "      <script>\n",
              "        const buttonEl =\n",
              "          document.querySelector('#df-0e4d2e1a-345c-4a0a-95aa-27a264138d94 button.colab-df-convert');\n",
              "        buttonEl.style.display =\n",
              "          google.colab.kernel.accessAllowed ? 'block' : 'none';\n",
              "\n",
              "        async function convertToInteractive(key) {\n",
              "          const element = document.querySelector('#df-0e4d2e1a-345c-4a0a-95aa-27a264138d94');\n",
              "          const dataTable =\n",
              "            await google.colab.kernel.invokeFunction('convertToInteractive',\n",
              "                                                     [key], {});\n",
              "          if (!dataTable) return;\n",
              "\n",
              "          const docLinkHtml = 'Like what you see? Visit the ' +\n",
              "            '<a target=\"_blank\" href=https://colab.research.google.com/notebooks/data_table.ipynb>data table notebook</a>'\n",
              "            + ' to learn more about interactive tables.';\n",
              "          element.innerHTML = '';\n",
              "          dataTable['output_type'] = 'display_data';\n",
              "          await google.colab.output.renderOutput(dataTable, element);\n",
              "          const docLink = document.createElement('div');\n",
              "          docLink.innerHTML = docLinkHtml;\n",
              "          element.appendChild(docLink);\n",
              "        }\n",
              "      </script>\n",
              "    </div>\n",
              "  </div>\n",
              "  "
            ],
            "text/plain": [
              "     sepal_length  sepal_width  petal_length  petal_width\n",
              "0             5.1          3.5           1.4          0.2\n",
              "1             4.9          3.0           1.4          0.2\n",
              "2             4.7          3.2           1.3          0.2\n",
              "3             4.6          3.1           1.5          0.2\n",
              "4             5.0          3.6           1.4          0.2\n",
              "..            ...          ...           ...          ...\n",
              "145           6.7          3.0           5.2          2.3\n",
              "146           6.3          2.5           5.0          1.9\n",
              "147           6.5          3.0           5.2          2.0\n",
              "148           6.2          3.4           5.4          2.3\n",
              "149           5.9          3.0           5.1          1.8\n",
              "\n",
              "[150 rows x 4 columns]"
            ]
          },
          "metadata": {},
          "execution_count": 5
        }
      ]
    },
    {
      "cell_type": "code",
      "source": [
        "#Features y\n",
        "iris_y = iris['species']\n",
        "iris_y"
      ],
      "metadata": {
        "colab": {
          "base_uri": "https://localhost:8080/"
        },
        "id": "K3cE8cM86ASy",
        "outputId": "a50b0ff6-1e59-471a-9472-7af95f4f59a6"
      },
      "execution_count": null,
      "outputs": [
        {
          "output_type": "execute_result",
          "data": {
            "text/plain": [
              "0      0\n",
              "1      0\n",
              "2      0\n",
              "3      0\n",
              "4      0\n",
              "      ..\n",
              "145    2\n",
              "146    2\n",
              "147    2\n",
              "148    2\n",
              "149    2\n",
              "Name: species, Length: 150, dtype: int64"
            ]
          },
          "metadata": {},
          "execution_count": 6
        }
      ]
    },
    {
      "cell_type": "markdown",
      "source": [
        "# SPLITTING DATA\n"
      ],
      "metadata": {
        "id": "f3Z4hnMA6ydg"
      }
    },
    {
      "cell_type": "code",
      "source": [
        "#From sklearn.model_selection import train_test_split\n",
        "\n",
        "#Aim: 80% of training and 20% of testing\n",
        "\n",
        "x_train, x_test, y_train, y_test = train_test_split(iris_x, iris_y, test_size = 0.2)\n",
        "print(x_train.shape)\n",
        "print(x_test.shape)\n",
        "print(y_train.shape)\n",
        "print(y_test.shape)"
      ],
      "metadata": {
        "colab": {
          "base_uri": "https://localhost:8080/"
        },
        "id": "qMLBxBeo631q",
        "outputId": "f9112bc5-04f2-49d2-aec1-2376d0973c45"
      },
      "execution_count": null,
      "outputs": [
        {
          "output_type": "stream",
          "name": "stdout",
          "text": [
            "(120, 4)\n",
            "(30, 4)\n",
            "(120,)\n",
            "(30,)\n"
          ]
        }
      ]
    },
    {
      "cell_type": "markdown",
      "source": [
        "# VISUALIZING DATASET\n"
      ],
      "metadata": {
        "id": "TV432gK6t8Nk"
      }
    },
    {
      "cell_type": "code",
      "source": [
        "# import some data to play with\n",
        "iris_v = datasets.load_iris()\n",
        "\n",
        "# we only take the first two features. We could avoid this ugly\n",
        "# slicing by using a two-dim dataset\n",
        "X = iris_v.data[:, :2]\n",
        "y = iris_v.target\n",
        "\n",
        "h = 0.02  # step size in the mesh\n",
        "\n",
        "# Create color maps\n",
        "cmap_light = ListedColormap([\"orange\", \"cyan\", \"cornflowerblue\"])\n",
        "cmap_bold = [\"darkorange\", \"c\", \"darkblue\"]\n",
        "\n",
        "for k in [1, 4, 120]:\n",
        "    # we create an instance of Neighbours Classifier and fit the data.\n",
        "    clf = neighbors.KNeighborsClassifier(n_neighbors= k, weights='uniform')\n",
        "    clf.fit(X, y)\n",
        "\n",
        "    # Plot the decision boundary. For that, we will assign a color to each\n",
        "    # point in the mesh [x_min, x_max]x[y_min, y_max].\n",
        "    x_min, x_max = X[:, 0].min() - 1, X[:, 0].max() + 1\n",
        "    y_min, y_max = X[:, 1].min() - 1, X[:, 1].max() + 1\n",
        "    xx, yy = np.meshgrid(np.arange(x_min, x_max, h), np.arange(y_min, y_max, h))\n",
        "    Z = clf.predict(np.c_[xx.ravel(), yy.ravel()])\n",
        "\n",
        "    # Put the result into a color plot\n",
        "    Z = Z.reshape(xx.shape)\n",
        "    plt.figure(figsize=(8, 6))\n",
        "    plt.contourf(xx, yy, Z, cmap=cmap_light)\n",
        "\n",
        "    # Plot also the training points\n",
        "    sns.scatterplot(\n",
        "        x=X[:, 0],\n",
        "        y=X[:, 1],\n",
        "        hue=iris_v.target_names[y],\n",
        "        palette=cmap_bold,\n",
        "        alpha=1.0,\n",
        "        edgecolor=\"black\",\n",
        "    )\n",
        "    plt.xlim(xx.min(), xx.max())\n",
        "    plt.ylim(yy.min(), yy.max())\n",
        "    plt.title(\n",
        "        \"Class classification (k = %i, weights = '%s')\" % (k, 'uniform')\n",
        "    )\n",
        "    plt.xlabel(iris_v.feature_names[0])\n",
        "    plt.ylabel(iris_v.feature_names[1])\n",
        "\n",
        "plt.show()"
      ],
      "metadata": {
        "colab": {
          "base_uri": "https://localhost:8080/",
          "height": 1000
        },
        "id": "zkOaXdE_uECH",
        "outputId": "136800ed-6700-43e0-a4d4-c8959a80da6c"
      },
      "execution_count": null,
      "outputs": [
        {
          "output_type": "display_data",
          "data": {
            "image/png": "[encoded data removed]",
            "text/plain": [
              "<Figure size 576x432 with 1 Axes>"
            ]
          },
          "metadata": {
            "needs_background": "light"
          }
        },
        {
          "output_type": "display_data",
          "data": {
            "image/png": "[encoded data removed]",
            "text/plain": [
              "<Figure size 576x432 with 1 Axes>"
            ]
          },
          "metadata": {
            "needs_background": "light"
          }
        },
        {
          "output_type": "display_data",
          "data": {
            "image/png": "[encoded data removed]",
            "text/plain": [
              "<Figure size 576x432 with 1 Axes>"
            ]
          },
          "metadata": {
            "needs_background": "light"
          }
        }
      ]
    },
    {
      "cell_type": "code",
      "source": [
        "n_neighbors = 15\n",
        "\n",
        "# import some data to play with\n",
        "iris_t = datasets.load_iris()\n",
        "\n",
        "# we only take the first two features. We could avoid this ugly\n",
        "# slicing by using a two-dim dataset\n",
        "X = iris_t.data[:, :2]\n",
        "y = iris_t.target\n",
        "\n",
        "x_min, x_max = X[:, 0].min() - 1, X[:, 0].max() + 1\n",
        "y_min, y_max = X[:, 1].min() - 1, X[:, 1].max() + 1"
      ],
      "metadata": {
        "id": "58dHZ_uLCJ6t"
      },
      "execution_count": null,
      "outputs": []
    },
    {
      "cell_type": "markdown",
      "source": [
        "# NORMALIZATION"
      ],
      "metadata": {
        "id": "I0oIzjnZ7tl2"
      }
    },
    {
      "cell_type": "code",
      "source": [
        "#Aim: Input data must be ranged from 0 to 1\n",
        "\n",
        "#From sklearn.preprocessing import MinMaxScaler\n",
        "\n",
        "scaler = MinMaxScaler()\n",
        "scaler\n"
      ],
      "metadata": {
        "colab": {
          "base_uri": "https://localhost:8080/"
        },
        "id": "bqcRsum871tp",
        "outputId": "5e8d8cab-1bb6-4ebc-bb69-7ff46c994a86"
      },
      "execution_count": null,
      "outputs": [
        {
          "output_type": "execute_result",
          "data": {
            "text/plain": [
              "MinMaxScaler()"
            ]
          },
          "metadata": {},
          "execution_count": 10
        }
      ]
    },
    {
      "cell_type": "code",
      "source": [
        "scaler.fit(x_train) #Compute the minimum and maximum to be used for later scaling.\n",
        "x_train_norm = scaler.transform(x_train)\n",
        "x_test_norm = scaler.transform(x_test)\n",
        "x_train_norm"
      ],
      "metadata": {
        "id": "YKTlLelP8YMr",
        "colab": {
          "base_uri": "https://localhost:8080/"
        },
        "outputId": "87b16a48-accd-4e12-c507-09d265ae9c4b"
      },
      "execution_count": null,
      "outputs": [
        {
          "output_type": "execute_result",
          "data": {
            "text/plain": [
              "array([[0.33333333, 0.22727273, 0.50847458, 0.5       ],\n",
              "       [0.66666667, 0.5       , 0.77966102, 0.95833333],\n",
              "       [0.77777778, 0.45454545, 0.83050847, 0.83333333],\n",
              "       [0.58333333, 0.40909091, 0.55932203, 0.5       ],\n",
              "       [0.61111111, 0.54545455, 0.69491525, 0.79166667],\n",
              "       [0.22222222, 0.68181818, 0.06779661, 0.08333333],\n",
              "       [0.33333333, 0.27272727, 0.57627119, 0.45833333],\n",
              "       [1.        , 0.81818182, 0.91525424, 0.79166667],\n",
              "       [0.19444444, 0.59090909, 0.06779661, 0.04166667],\n",
              "       [0.66666667, 0.59090909, 0.79661017, 0.83333333],\n",
              "       [0.66666667, 0.45454545, 0.71186441, 0.91666667],\n",
              "       [0.47222222, 0.40909091, 0.59322034, 0.58333333],\n",
              "       [0.02777778, 0.40909091, 0.06779661, 0.04166667],\n",
              "       [0.55555556, 0.63636364, 0.77966102, 0.95833333],\n",
              "       [0.25      , 0.63636364, 0.06779661, 0.04166667],\n",
              "       [0.33333333, 1.        , 0.06779661, 0.04166667],\n",
              "       [0.08333333, 0.63636364, 0.06779661, 0.08333333],\n",
              "       [0.30555556, 0.77272727, 0.08474576, 0.04166667],\n",
              "       [0.58333333, 0.31818182, 0.72881356, 0.75      ],\n",
              "       [0.08333333, 0.54545455, 0.06779661, 0.04166667],\n",
              "       [0.63888889, 0.40909091, 0.61016949, 0.5       ],\n",
              "       [0.22222222, 0.81818182, 0.10169492, 0.04166667],\n",
              "       [0.41666667, 0.31818182, 0.69491525, 0.75      ],\n",
              "       [0.02777778, 0.54545455, 0.05084746, 0.04166667],\n",
              "       [0.22222222, 0.81818182, 0.15254237, 0.125     ],\n",
              "       [0.13888889, 0.5       , 0.10169492, 0.04166667],\n",
              "       [0.69444444, 0.45454545, 0.76271186, 0.83333333],\n",
              "       [0.44444444, 0.45454545, 0.69491525, 0.70833333],\n",
              "       [0.58333333, 0.36363636, 0.77966102, 0.875     ],\n",
              "       [0.66666667, 0.22727273, 0.81355932, 0.70833333],\n",
              "       [0.22222222, 0.59090909, 0.11864407, 0.16666667],\n",
              "       [0.69444444, 0.54545455, 0.83050847, 0.91666667],\n",
              "       [0.13888889, 0.45454545, 0.06779661, 0.        ],\n",
              "       [0.66666667, 0.59090909, 0.79661017, 1.        ],\n",
              "       [0.55555556, 0.22727273, 0.6779661 , 0.75      ],\n",
              "       [0.27777778, 0.77272727, 0.08474576, 0.04166667],\n",
              "       [0.52777778, 0.09090909, 0.59322034, 0.58333333],\n",
              "       [0.11111111, 0.54545455, 0.10169492, 0.04166667],\n",
              "       [0.55555556, 0.59090909, 0.62711864, 0.625     ],\n",
              "       [0.08333333, 0.72727273, 0.        , 0.04166667],\n",
              "       [0.38888889, 0.36363636, 0.59322034, 0.5       ],\n",
              "       [0.22222222, 0.68181818, 0.06779661, 0.04166667],\n",
              "       [0.52777778, 0.36363636, 0.6440678 , 0.70833333],\n",
              "       [0.38888889, 0.40909091, 0.54237288, 0.5       ],\n",
              "       [0.30555556, 0.86363636, 0.05084746, 0.125     ],\n",
              "       [0.80555556, 0.72727273, 0.86440678, 1.        ],\n",
              "       [0.58333333, 0.54545455, 0.72881356, 0.91666667],\n",
              "       [0.41666667, 0.36363636, 0.69491525, 0.95833333],\n",
              "       [0.5       , 0.45454545, 0.61016949, 0.54166667],\n",
              "       [0.36111111, 0.22727273, 0.49152542, 0.41666667],\n",
              "       [0.47222222, 0.45454545, 0.6440678 , 0.70833333],\n",
              "       [0.61111111, 0.45454545, 0.71186441, 0.79166667],\n",
              "       [0.13888889, 0.63636364, 0.15254237, 0.04166667],\n",
              "       [0.94444444, 0.81818182, 0.96610169, 0.875     ],\n",
              "       [0.19444444, 0.54545455, 0.03389831, 0.04166667],\n",
              "       [0.69444444, 0.36363636, 0.6440678 , 0.54166667],\n",
              "       [0.19444444, 0.63636364, 0.10169492, 0.125     ],\n",
              "       [0.33333333, 0.18181818, 0.47457627, 0.41666667],\n",
              "       [0.22222222, 0.63636364, 0.08474576, 0.04166667],\n",
              "       [0.5       , 0.27272727, 0.77966102, 0.54166667],\n",
              "       [0.36111111, 0.45454545, 0.59322034, 0.58333333],\n",
              "       [0.19444444, 0.        , 0.42372881, 0.375     ],\n",
              "       [0.30555556, 0.63636364, 0.08474576, 0.125     ],\n",
              "       [0.19444444, 0.63636364, 0.08474576, 0.04166667],\n",
              "       [0.36111111, 0.40909091, 0.44067797, 0.5       ],\n",
              "       [0.58333333, 0.5       , 0.76271186, 0.70833333],\n",
              "       [0.16666667, 0.18181818, 0.38983051, 0.375     ],\n",
              "       [0.25      , 0.31818182, 0.49152542, 0.54166667],\n",
              "       [0.33333333, 0.18181818, 0.45762712, 0.375     ],\n",
              "       [0.58333333, 0.54545455, 0.59322034, 0.58333333],\n",
              "       [0.        , 0.45454545, 0.01694915, 0.        ],\n",
              "       [0.55555556, 0.59090909, 0.84745763, 1.        ],\n",
              "       [0.13888889, 0.63636364, 0.10169492, 0.04166667],\n",
              "       [0.19444444, 0.72727273, 0.06779661, 0.04166667],\n",
              "       [0.66666667, 0.5       , 0.62711864, 0.58333333],\n",
              "       [0.58333333, 0.36363636, 0.77966102, 0.83333333],\n",
              "       [0.80555556, 0.45454545, 0.81355932, 0.625     ],\n",
              "       [0.19444444, 0.45454545, 0.10169492, 0.04166667],\n",
              "       [0.33333333, 0.13636364, 0.50847458, 0.5       ],\n",
              "       [0.72222222, 0.5       , 0.66101695, 0.58333333],\n",
              "       [0.47222222, 0.63636364, 0.59322034, 0.625     ],\n",
              "       [0.19444444, 0.68181818, 0.10169492, 0.20833333],\n",
              "       [0.36111111, 0.31818182, 0.54237288, 0.5       ],\n",
              "       [0.44444444, 0.45454545, 0.54237288, 0.58333333],\n",
              "       [0.33333333, 0.68181818, 0.05084746, 0.04166667],\n",
              "       [0.38888889, 0.45454545, 0.54237288, 0.45833333],\n",
              "       [0.55555556, 0.36363636, 0.69491525, 0.58333333],\n",
              "       [0.75      , 0.54545455, 0.62711864, 0.54166667],\n",
              "       [0.30555556, 0.86363636, 0.11864407, 0.125     ],\n",
              "       [0.61111111, 0.45454545, 0.81355932, 0.875     ],\n",
              "       [0.55555556, 0.13636364, 0.57627119, 0.5       ],\n",
              "       [0.44444444, 0.54545455, 0.6440678 , 0.70833333],\n",
              "       [0.94444444, 0.27272727, 1.        , 0.91666667],\n",
              "       [0.47222222, 0.09090909, 0.6779661 , 0.58333333],\n",
              "       [0.41666667, 0.31818182, 0.49152542, 0.45833333],\n",
              "       [0.80555556, 0.54545455, 0.84745763, 0.70833333],\n",
              "       [0.5       , 0.36363636, 0.50847458, 0.5       ],\n",
              "       [0.25      , 0.68181818, 0.08474576, 0.04166667],\n",
              "       [0.08333333, 0.5       , 0.08474576, 0.04166667],\n",
              "       [0.55555556, 0.22727273, 0.66101695, 0.58333333],\n",
              "       [0.72222222, 0.5       , 0.69491525, 0.91666667],\n",
              "       [0.38888889, 0.36363636, 0.52542373, 0.5       ],\n",
              "       [0.83333333, 0.40909091, 0.89830508, 0.70833333],\n",
              "       [0.52777778, 0.63636364, 0.74576271, 0.91666667],\n",
              "       [0.02777778, 0.45454545, 0.05084746, 0.04166667],\n",
              "       [0.19444444, 0.68181818, 0.05084746, 0.08333333],\n",
              "       [0.19444444, 0.13636364, 0.38983051, 0.375     ],\n",
              "       [0.16666667, 0.5       , 0.08474576, 0.        ],\n",
              "       [0.36111111, 0.36363636, 0.66101695, 0.79166667],\n",
              "       [0.55555556, 0.40909091, 0.77966102, 0.70833333],\n",
              "       [0.72222222, 0.5       , 0.74576271, 0.83333333],\n",
              "       [0.5       , 0.45454545, 0.66101695, 0.70833333],\n",
              "       [0.36111111, 0.45454545, 0.52542373, 0.5       ],\n",
              "       [0.47222222, 0.31818182, 0.69491525, 0.625     ],\n",
              "       [0.72222222, 0.54545455, 0.79661017, 0.91666667],\n",
              "       [0.22222222, 0.77272727, 0.08474576, 0.125     ],\n",
              "       [0.91666667, 0.45454545, 0.94915254, 0.83333333],\n",
              "       [0.5       , 0.40909091, 0.62711864, 0.54166667],\n",
              "       [0.41666667, 0.90909091, 0.03389831, 0.04166667],\n",
              "       [0.11111111, 0.54545455, 0.05084746, 0.04166667]])"
            ]
          },
          "metadata": {},
          "execution_count": 11
        }
      ]
    },
    {
      "cell_type": "markdown",
      "source": [
        "# FINDING AN OPTIMAL K "
      ],
      "metadata": {
        "id": "4Upo_-Q7MCB7"
      }
    },
    {
      "cell_type": "markdown",
      "source": [
        "## Euclidean metric measurement"
      ],
      "metadata": {
        "id": "mD4XqFDl38O6"
      }
    },
    {
      "cell_type": "code",
      "source": [
        "accuracy, accuracy_1, k_order = [], [], []\n",
        "\n",
        "for k in range (1, 15):\n",
        "    model = neighbors.KNeighborsClassifier(n_neighbors= k, weights= 'uniform', p= 2, metric= 'minkowski')\n",
        "    model.fit(x_train_norm, y_train)\n",
        "    y_pred_4 = model.predict(x_test_norm)\n",
        "    accuracy.append(100*accuracy_score(y_test, y_pred_4))\n",
        "  \n",
        "\n",
        "    model_1 = neighbors.KNeighborsClassifier(n_neighbors= k, weights= 'distance', p= 2, metric= 'minkowski')\n",
        "    model_1.fit(x_train_norm, y_train)\n",
        "    y_pred_1 = model_1.predict(x_test_norm)\n",
        "    accuracy_1.append(100*accuracy_score(y_test, y_pred_1))\n",
        "    k_order.append(k)\n",
        "#Plotting data\n",
        "plt.plot(k_order, accuracy, label = 'Uniform')\n",
        "plt.plot(k_order, accuracy_1, label = 'Distance')\n",
        "plt.xlabel('K-values')\n",
        "plt.ylabel('Accuracy')\n",
        "plt.title('K-NN using Euclidean metric measurement')\n",
        "plt.legend()"
      ],
      "metadata": {
        "colab": {
          "base_uri": "https://localhost:8080/",
          "height": 312
        },
        "id": "w6WoU2L9M6Km",
        "outputId": "4b483e02-8f14-49b3-aada-c156babea617"
      },
      "execution_count": null,
      "outputs": [
        {
          "output_type": "execute_result",
          "data": {
            "text/plain": [
              "<matplotlib.legend.Legend at 0x7faafc29f4d0>"
            ]
          },
          "metadata": {},
          "execution_count": 17
        },
        {
          "output_type": "display_data",
          "data": {
            "image/png": "[encoded data removed]",
            "text/plain": [
              "<Figure size 432x288 with 1 Axes>"
            ]
          },
          "metadata": {
            "needs_background": "light"
          }
        }
      ]
    },
    {
      "cell_type": "markdown",
      "source": [
        "##MANHATTAN METRIC MEASUREMENT \n"
      ],
      "metadata": {
        "id": "w_GdBcKTUGcu"
      }
    },
    {
      "cell_type": "code",
      "source": [
        "accuracy_2, accuracy_3 = [], []\n",
        "for k in range (1, 15):\n",
        "    model_2 = neighbors.KNeighborsClassifier(n_neighbors= k, weights= 'uniform', p= 1, metric= 'minkowski')\n",
        "    model_2.fit(x_train_norm, y_train)\n",
        "    y_pred_2 = model_2.predict(x_test_norm)\n",
        "    accuracy_2.append(100*accuracy_score(y_test, y_pred_2))\n",
        "\n",
        "    model_3 = neighbors.KNeighborsClassifier(n_neighbors= k, weights= 'distance', p= 1, metric= 'minkowski')\n",
        "    model_3.fit(x_train_norm, y_train)\n",
        "    y_pred_3 = model_3.predict(x_test_norm)\n",
        "    accuracy_3.append(100*accuracy_score(y_test, y_pred_3))\n",
        "\n",
        "#Plotting data\n",
        "plt.plot(k_order, accuracy_2, label = 'Uniform')\n",
        "plt.plot(k_order, accuracy_3, label = 'Distance')\n",
        "plt.xlabel('K-values')\n",
        "plt.ylabel('Accuracy')\n",
        "plt.title('K-NN using Manhattan metric measurement')\n",
        "plt.legend()"
      ],
      "metadata": {
        "colab": {
          "base_uri": "https://localhost:8080/",
          "height": 312
        },
        "id": "NPPXXnmxUYG1",
        "outputId": "7e7c60bf-fc5a-4d0a-e3b9-956373957ce3"
      },
      "execution_count": null,
      "outputs": [
        {
          "output_type": "execute_result",
          "data": {
            "text/plain": [
              "<matplotlib.legend.Legend at 0x7faafc0d4190>"
            ]
          },
          "metadata": {},
          "execution_count": 18
        },
        {
          "output_type": "display_data",
          "data": {
            "image/png": "[encoded data removed]",
            "text/plain": [
              "<Figure size 432x288 with 1 Axes>"
            ]
          },
          "metadata": {
            "needs_background": "light"
          }
        }
      ]
    },
    {
      "cell_type": "markdown",
      "source": [
        "# K-NEAREST NEIGHBORS\n",
        "All three are algorithms used for the Nearest Neighbour search. The **Ball Tree** and the **KD Tree algorithm** are tree algorithms used for spatial division of data points and their allocation into…"
      ],
      "metadata": {
        "id": "gTVmanHYRH8j"
      }
    },
    {
      "cell_type": "code",
      "source": [
        "#I decided to design a Euclidean K-NN\n",
        "neigh = KNeighborsClassifier(n_neighbors=  4, weights= 'distance', algorithm= 'auto', leaf_size=30, p=2, metric='minkowski', metric_params=None, n_jobs=None)\n",
        "neigh.fit(x_train_norm, y_train)\n",
        "\n",
        "#Predicted labels\n",
        "y_test_pred = neigh.predict(x_test_norm)\n",
        "y_test_pred"
      ],
      "metadata": {
        "colab": {
          "base_uri": "https://localhost:8080/"
        },
        "id": "UuNOx8_sRQfk",
        "outputId": "393e439c-392f-44bc-9d55-1f9472d6527b"
      },
      "execution_count": null,
      "outputs": [
        {
          "output_type": "execute_result",
          "data": {
            "text/plain": [
              "array([1, 1, 2, 1, 0, 1, 1, 0, 1, 2, 0, 0, 0, 0, 1, 2, 2, 1, 2, 1, 2, 1,\n",
              "       0, 2, 0, 0, 1, 0, 1, 1])"
            ]
          },
          "metadata": {},
          "execution_count": 14
        }
      ]
    },
    {
      "cell_type": "code",
      "source": [
        "#Ground truth\n",
        "np.array(y_test)"
      ],
      "metadata": {
        "colab": {
          "base_uri": "https://localhost:8080/"
        },
        "id": "Dhi3S3osiLqS",
        "outputId": "52291559-6a64-4ea6-99e3-ca4fbf898ce5"
      },
      "execution_count": null,
      "outputs": [
        {
          "output_type": "execute_result",
          "data": {
            "text/plain": [
              "array([1, 1, 2, 1, 0, 2, 1, 0, 1, 2, 0, 0, 0, 0, 1, 2, 2, 1, 2, 1, 2, 1,\n",
              "       0, 2, 0, 0, 1, 0, 1, 1])"
            ]
          },
          "metadata": {},
          "execution_count": 15
        }
      ]
    },
    {
      "cell_type": "markdown",
      "source": [
        "# CONFUSION MATRIX\n",
        "![image.png](data:image/png;base64,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)\n",
        "![image.png](data:image/png;base64,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)\n",
        "![image.png](data:image/png;base64,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)\n",
        "![image.png](data:image/png;base64,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)"
      ],
      "metadata": {
        "id": "YWJ66oW5eua7"
      }
    },
    {
      "cell_type": "code",
      "source": [
        "print('Classification report using the K-NNClassifier: ')\n",
        "print('Test accuracy: ', accuracy_score(y_test, y_test_pred))\n",
        "print(classification_report(y_test, y_test_pred))\n",
        "\n",
        "cm = confusion_matrix(y_test, y_test_pred)\n",
        "disp = ConfusionMatrixDisplay(confusion_matrix=cm, display_labels=neigh.classes_)\n",
        "disp.plot()\n",
        "\n",
        "plt.show()"
      ],
      "metadata": {
        "colab": {
          "base_uri": "https://localhost:8080/",
          "height": 487
        },
        "id": "YuVZpa5xi3pa",
        "outputId": "914220bd-9f6e-44de-f306-a57283cbab6a"
      },
      "execution_count": null,
      "outputs": [
        {
          "output_type": "stream",
          "name": "stdout",
          "text": [
            "Classification report using the K-NNClassifier: \n",
            "Test accuracy:  0.9666666666666667\n",
            "              precision    recall  f1-score   support\n",
            "\n",
            "           0       1.00      1.00      1.00        10\n",
            "           1       0.92      1.00      0.96        12\n",
            "           2       1.00      0.88      0.93         8\n",
            "\n",
            "    accuracy                           0.97        30\n",
            "   macro avg       0.97      0.96      0.96        30\n",
            "weighted avg       0.97      0.97      0.97        30\n",
            "\n"
          ]
        },
        {
          "output_type": "display_data",
          "data": {
            "image/png": "[encoded data removed]",
            "text/plain": [
              "<Figure size 432x288 with 2 Axes>"
            ]
          },
          "metadata": {
            "needs_background": "light"
          }
        }
      ]
    }
  ]
}